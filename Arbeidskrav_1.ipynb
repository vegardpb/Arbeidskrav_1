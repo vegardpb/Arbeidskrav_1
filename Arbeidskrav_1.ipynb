{
 "cells": [
  {
   "cell_type": "markdown",
   "id": "63779909",
   "metadata": {},
   "source": [
    "# Årlig kostnadsdiferanse elbil vs bensinbil"
   ]
  },
  {
   "cell_type": "code",
   "execution_count": null,
   "id": "f6dcc386",
   "metadata": {},
   "outputs": [],
   "source": [
    "\"\"\"\n",
    "Årlig kostnadsdiferanse elbil vs bensin bil\n",
    "Vegard Paulsrud Bakken\n",
    "v1\n",
    "\n",
    "\"\"\"\n",
    "##---------------faktorer----------##\n",
    "# Du kan selv velge antall kjørte km/år ut fra din typiske bilbruk. Ev. (hvis du ikke har bil) kan du anta 10.000 km.\n",
    "# Forsikring: Elbil: 5000 kr/år. Bensinbil: 7500 kr/år.\n",
    "# Trafikkforsikringsavgift: 8,38 kr/dag for både elbil og bensinbil.\n",
    "# Drivstoffbruk: Elbil: 0,2 kWh/km. Strømpris (antar kun hjemmelading): 2.00 kr/kWh. Bensinbil: 1,0 kr/km.\n",
    "# Bomavgift: Elbil: 0,1 kr/km. Bensinbil: 0,3 kr/km\n",
    "#----------------------------------------------------------#"
   ]
  },
  {
   "cell_type": "code",
   "execution_count": 17,
   "id": "400845b1",
   "metadata": {},
   "outputs": [
    {
     "name": "stdout",
     "output_type": "stream",
     "text": [
      "Årlig km brukt i beregningen: 16000\n",
      "-------------------------------------\n",
      "Årlig totalkostnad Elbil: 16058.7\n",
      "-------------------------------------\n",
      "Årlig totalkostnad bensinbil: 31358.7\n",
      "-----------------------------------------\n",
      "Differanse i årlige kostnader mellom Elbil og Bensinbil: differansen er -15300.0 og viser at bensinbil er 15300.0 kr dyrere i året en elbil\n",
      "------------------------------------------\n"
     ]
    }
   ],
   "source": [
    "\n",
    "km=16000\n",
    "\n",
    "#trafikkforsikring både elbil og bensin\n",
    "tf=8.38*365  #antar dager pr år 365 og ikke 365.25 (skuddår)\n",
    "\n",
    "#Bensilbil årlige total kostnader\n",
    "f=7500  #forsikring\n",
    "ds=1*km  #drivstoff årlig\n",
    "ba=0.3*km  #bomavgift\n",
    "\n",
    "#Elbil årlige total kostnader\n",
    "f_e=5000  #forsikring\n",
    "ds_e=(km*0.2)*2.00  #drivstoff årlig\n",
    "ba_e=0.1*km  #bomavgift\n",
    "\n",
    "Elbil=tf+f_e+ds_e+ba_e  #sum toatalkostnader elbil\n",
    "bensinbil=tf+f+ds+ba  #sum toatalkostnader bensinbil\n",
    "\n",
    "diff= Elbil-bensinbil\n",
    "\n",
    "print(f'Årlig km brukt i beregningen:', km )\n",
    "\n",
    "print('-------------------------------------')\n",
    "print(f'Årlig totalkostnad Elbil:',Elbil)\n",
    "print('-------------------------------------')\n",
    "print(f'Årlig totalkostnad bensinbil:',bensinbil)\n",
    "print('-----------------------------------------')\n",
    "if diff>0:\n",
    "    print(f'Differanse i årlige kostnader mellom Elbil og Bensinbil: differansen er',diff,'og viser at  elbil er',abs(diff),'kr dyrere i året en bensinbil')\n",
    "elif diff<0:\n",
    "   print(f'Differanse i årlige kostnader mellom Elbil og Bensinbil: differansen er',diff,'og viser at bensinbil er',abs(diff),'kr dyrere i året en elbil')\n",
    "elif diff==0:\n",
    "    print(f'Differanse i årlige kostnader mellom Elbil og Bensinbil: differansen er',diff,'og viser at bensinbil og elbil er eksakt like dyrt ila et år')\n",
    "\n",
    "print('------------------------------------------')"
   ]
  },
  {
   "cell_type": "code",
   "execution_count": null,
   "id": "66d66d9b",
   "metadata": {},
   "outputs": [],
   "source": []
  }
 ],
 "metadata": {
  "kernelspec": {
   "display_name": "Python 3",
   "language": "python",
   "name": "python3"
  },
  "language_info": {
   "codemirror_mode": {
    "name": "ipython",
    "version": 3
   },
   "file_extension": ".py",
   "mimetype": "text/x-python",
   "name": "python",
   "nbconvert_exporter": "python",
   "pygments_lexer": "ipython3",
   "version": "3.12.10"
  }
 },
 "nbformat": 4,
 "nbformat_minor": 5
}
